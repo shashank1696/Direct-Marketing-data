{
 "cells": [
  {
   "cell_type": "code",
   "execution_count": 175,
   "metadata": {},
   "outputs": [],
   "source": [
    "import pandas as pd\n",
    "data = pd.read_csv(\"H:\\python\\dm.csv\",encoding = \"latin1\")"
   ]
  },
  {
   "cell_type": "code",
   "execution_count": 176,
   "metadata": {},
   "outputs": [],
   "source": [
    "import numpy as np"
   ]
  },
  {
   "cell_type": "code",
   "execution_count": 177,
   "metadata": {},
   "outputs": [
    {
     "data": {
      "text/html": [
       "<div>\n",
       "<style scoped>\n",
       "    .dataframe tbody tr th:only-of-type {\n",
       "        vertical-align: middle;\n",
       "    }\n",
       "\n",
       "    .dataframe tbody tr th {\n",
       "        vertical-align: top;\n",
       "    }\n",
       "\n",
       "    .dataframe thead th {\n",
       "        text-align: right;\n",
       "    }\n",
       "</style>\n",
       "<table border=\"1\" class=\"dataframe\">\n",
       "  <thead>\n",
       "    <tr style=\"text-align: right;\">\n",
       "      <th></th>\n",
       "      <th>Age</th>\n",
       "      <th>Gender</th>\n",
       "      <th>OwnHome</th>\n",
       "      <th>Married</th>\n",
       "      <th>Location</th>\n",
       "      <th>Salary</th>\n",
       "      <th>Children</th>\n",
       "      <th>History</th>\n",
       "      <th>Catalogs</th>\n",
       "      <th>AmountSpent</th>\n",
       "      <th>Cust_Id</th>\n",
       "    </tr>\n",
       "  </thead>\n",
       "  <tbody>\n",
       "    <tr>\n",
       "      <th>0</th>\n",
       "      <td>Old</td>\n",
       "      <td>Female</td>\n",
       "      <td>Own</td>\n",
       "      <td>Single</td>\n",
       "      <td>Far</td>\n",
       "      <td>47500</td>\n",
       "      <td>0</td>\n",
       "      <td>High</td>\n",
       "      <td>6</td>\n",
       "      <td>755</td>\n",
       "      <td>247</td>\n",
       "    </tr>\n",
       "    <tr>\n",
       "      <th>1</th>\n",
       "      <td>Middle</td>\n",
       "      <td>Male</td>\n",
       "      <td>Rent</td>\n",
       "      <td>Single</td>\n",
       "      <td>Close</td>\n",
       "      <td>63600</td>\n",
       "      <td>0</td>\n",
       "      <td>High</td>\n",
       "      <td>6</td>\n",
       "      <td>1318</td>\n",
       "      <td>127</td>\n",
       "    </tr>\n",
       "    <tr>\n",
       "      <th>2</th>\n",
       "      <td>Young</td>\n",
       "      <td>Female</td>\n",
       "      <td>Rent</td>\n",
       "      <td>Single</td>\n",
       "      <td>Close</td>\n",
       "      <td>13500</td>\n",
       "      <td>0</td>\n",
       "      <td>Low</td>\n",
       "      <td>18</td>\n",
       "      <td>296</td>\n",
       "      <td>479</td>\n",
       "    </tr>\n",
       "    <tr>\n",
       "      <th>3</th>\n",
       "      <td>Middle</td>\n",
       "      <td>Male</td>\n",
       "      <td>Own</td>\n",
       "      <td>Married</td>\n",
       "      <td>Close</td>\n",
       "      <td>85600</td>\n",
       "      <td>1</td>\n",
       "      <td>High</td>\n",
       "      <td>18</td>\n",
       "      <td>2436</td>\n",
       "      <td>475</td>\n",
       "    </tr>\n",
       "    <tr>\n",
       "      <th>4</th>\n",
       "      <td>Middle</td>\n",
       "      <td>Female</td>\n",
       "      <td>Own</td>\n",
       "      <td>Single</td>\n",
       "      <td>Close</td>\n",
       "      <td>68400</td>\n",
       "      <td>0</td>\n",
       "      <td>High</td>\n",
       "      <td>12</td>\n",
       "      <td>1304</td>\n",
       "      <td>151</td>\n",
       "    </tr>\n",
       "  </tbody>\n",
       "</table>\n",
       "</div>"
      ],
      "text/plain": [
       "      Age  Gender OwnHome  Married Location  Salary  Children History  \\\n",
       "0     Old  Female     Own   Single      Far   47500         0    High   \n",
       "1  Middle    Male    Rent   Single    Close   63600         0    High   \n",
       "2   Young  Female    Rent   Single    Close   13500         0     Low   \n",
       "3  Middle    Male     Own  Married    Close   85600         1    High   \n",
       "4  Middle  Female     Own   Single    Close   68400         0    High   \n",
       "\n",
       "   Catalogs  AmountSpent  Cust_Id  \n",
       "0         6          755      247  \n",
       "1         6         1318      127  \n",
       "2        18          296      479  \n",
       "3        18         2436      475  \n",
       "4        12         1304      151  "
      ]
     },
     "execution_count": 177,
     "metadata": {},
     "output_type": "execute_result"
    }
   ],
   "source": [
    "data.head(5)"
   ]
  },
  {
   "cell_type": "code",
   "execution_count": 178,
   "metadata": {},
   "outputs": [
    {
     "data": {
      "text/plain": [
       "Age              0\n",
       "Gender           0\n",
       "OwnHome          0\n",
       "Married          0\n",
       "Location         0\n",
       "Salary           0\n",
       "Children         0\n",
       "History        303\n",
       "Catalogs         0\n",
       "AmountSpent      0\n",
       "Cust_Id          0\n",
       "dtype: int64"
      ]
     },
     "execution_count": 178,
     "metadata": {},
     "output_type": "execute_result"
    }
   ],
   "source": [
    "data.isnull().sum()"
   ]
  },
  {
   "cell_type": "code",
   "execution_count": 179,
   "metadata": {},
   "outputs": [],
   "source": [
    "data['History'] = data['History'].fillna('new')\n",
    "#replace na values with new"
   ]
  },
  {
   "cell_type": "code",
   "execution_count": 180,
   "metadata": {},
   "outputs": [
    {
     "data": {
      "text/plain": [
       "0       High\n",
       "1       High\n",
       "2        Low\n",
       "3       High\n",
       "4       High\n",
       "5        Low\n",
       "6     Medium\n",
       "7       High\n",
       "8        Low\n",
       "9        new\n",
       "10       new\n",
       "11      High\n",
       "12    Medium\n",
       "13      High\n",
       "14      High\n",
       "15       new\n",
       "16      High\n",
       "17      High\n",
       "18       Low\n",
       "19       Low\n",
       "Name: History, dtype: object"
      ]
     },
     "execution_count": 180,
     "metadata": {},
     "output_type": "execute_result"
    }
   ],
   "source": [
    "data['History'].head(20)"
   ]
  },
  {
   "cell_type": "code",
   "execution_count": 181,
   "metadata": {},
   "outputs": [
    {
     "data": {
      "text/html": [
       "<div>\n",
       "<style scoped>\n",
       "    .dataframe tbody tr th:only-of-type {\n",
       "        vertical-align: middle;\n",
       "    }\n",
       "\n",
       "    .dataframe tbody tr th {\n",
       "        vertical-align: top;\n",
       "    }\n",
       "\n",
       "    .dataframe thead th {\n",
       "        text-align: right;\n",
       "    }\n",
       "</style>\n",
       "<table border=\"1\" class=\"dataframe\">\n",
       "  <thead>\n",
       "    <tr style=\"text-align: right;\">\n",
       "      <th></th>\n",
       "      <th>Salary</th>\n",
       "      <th>Children</th>\n",
       "      <th>Catalogs</th>\n",
       "      <th>AmountSpent</th>\n",
       "      <th>Cust_Id</th>\n",
       "      <th>Age_Middle</th>\n",
       "      <th>Age_Old</th>\n",
       "      <th>Age_Young</th>\n",
       "      <th>Gender_Female</th>\n",
       "      <th>Gender_Male</th>\n",
       "      <th>OwnHome_Own</th>\n",
       "      <th>OwnHome_Rent</th>\n",
       "      <th>Married_Married</th>\n",
       "      <th>Married_Single</th>\n",
       "      <th>Location_Close</th>\n",
       "      <th>Location_Far</th>\n",
       "      <th>History_High</th>\n",
       "      <th>History_Low</th>\n",
       "      <th>History_Medium</th>\n",
       "      <th>History_new</th>\n",
       "    </tr>\n",
       "  </thead>\n",
       "  <tbody>\n",
       "    <tr>\n",
       "      <th>0</th>\n",
       "      <td>47500</td>\n",
       "      <td>0</td>\n",
       "      <td>6</td>\n",
       "      <td>755</td>\n",
       "      <td>247</td>\n",
       "      <td>0</td>\n",
       "      <td>1</td>\n",
       "      <td>0</td>\n",
       "      <td>1</td>\n",
       "      <td>0</td>\n",
       "      <td>1</td>\n",
       "      <td>0</td>\n",
       "      <td>0</td>\n",
       "      <td>1</td>\n",
       "      <td>0</td>\n",
       "      <td>1</td>\n",
       "      <td>1</td>\n",
       "      <td>0</td>\n",
       "      <td>0</td>\n",
       "      <td>0</td>\n",
       "    </tr>\n",
       "    <tr>\n",
       "      <th>1</th>\n",
       "      <td>63600</td>\n",
       "      <td>0</td>\n",
       "      <td>6</td>\n",
       "      <td>1318</td>\n",
       "      <td>127</td>\n",
       "      <td>1</td>\n",
       "      <td>0</td>\n",
       "      <td>0</td>\n",
       "      <td>0</td>\n",
       "      <td>1</td>\n",
       "      <td>0</td>\n",
       "      <td>1</td>\n",
       "      <td>0</td>\n",
       "      <td>1</td>\n",
       "      <td>1</td>\n",
       "      <td>0</td>\n",
       "      <td>1</td>\n",
       "      <td>0</td>\n",
       "      <td>0</td>\n",
       "      <td>0</td>\n",
       "    </tr>\n",
       "    <tr>\n",
       "      <th>2</th>\n",
       "      <td>13500</td>\n",
       "      <td>0</td>\n",
       "      <td>18</td>\n",
       "      <td>296</td>\n",
       "      <td>479</td>\n",
       "      <td>0</td>\n",
       "      <td>0</td>\n",
       "      <td>1</td>\n",
       "      <td>1</td>\n",
       "      <td>0</td>\n",
       "      <td>0</td>\n",
       "      <td>1</td>\n",
       "      <td>0</td>\n",
       "      <td>1</td>\n",
       "      <td>1</td>\n",
       "      <td>0</td>\n",
       "      <td>0</td>\n",
       "      <td>1</td>\n",
       "      <td>0</td>\n",
       "      <td>0</td>\n",
       "    </tr>\n",
       "    <tr>\n",
       "      <th>3</th>\n",
       "      <td>85600</td>\n",
       "      <td>1</td>\n",
       "      <td>18</td>\n",
       "      <td>2436</td>\n",
       "      <td>475</td>\n",
       "      <td>1</td>\n",
       "      <td>0</td>\n",
       "      <td>0</td>\n",
       "      <td>0</td>\n",
       "      <td>1</td>\n",
       "      <td>1</td>\n",
       "      <td>0</td>\n",
       "      <td>1</td>\n",
       "      <td>0</td>\n",
       "      <td>1</td>\n",
       "      <td>0</td>\n",
       "      <td>1</td>\n",
       "      <td>0</td>\n",
       "      <td>0</td>\n",
       "      <td>0</td>\n",
       "    </tr>\n",
       "    <tr>\n",
       "      <th>4</th>\n",
       "      <td>68400</td>\n",
       "      <td>0</td>\n",
       "      <td>12</td>\n",
       "      <td>1304</td>\n",
       "      <td>151</td>\n",
       "      <td>1</td>\n",
       "      <td>0</td>\n",
       "      <td>0</td>\n",
       "      <td>1</td>\n",
       "      <td>0</td>\n",
       "      <td>1</td>\n",
       "      <td>0</td>\n",
       "      <td>0</td>\n",
       "      <td>1</td>\n",
       "      <td>1</td>\n",
       "      <td>0</td>\n",
       "      <td>1</td>\n",
       "      <td>0</td>\n",
       "      <td>0</td>\n",
       "      <td>0</td>\n",
       "    </tr>\n",
       "  </tbody>\n",
       "</table>\n",
       "</div>"
      ],
      "text/plain": [
       "   Salary  Children  Catalogs  AmountSpent  Cust_Id  Age_Middle  Age_Old  \\\n",
       "0   47500         0         6          755      247           0        1   \n",
       "1   63600         0         6         1318      127           1        0   \n",
       "2   13500         0        18          296      479           0        0   \n",
       "3   85600         1        18         2436      475           1        0   \n",
       "4   68400         0        12         1304      151           1        0   \n",
       "\n",
       "   Age_Young  Gender_Female  Gender_Male  OwnHome_Own  OwnHome_Rent  \\\n",
       "0          0              1            0            1             0   \n",
       "1          0              0            1            0             1   \n",
       "2          1              1            0            0             1   \n",
       "3          0              0            1            1             0   \n",
       "4          0              1            0            1             0   \n",
       "\n",
       "   Married_Married  Married_Single  Location_Close  Location_Far  \\\n",
       "0                0               1               0             1   \n",
       "1                0               1               1             0   \n",
       "2                0               1               1             0   \n",
       "3                1               0               1             0   \n",
       "4                0               1               1             0   \n",
       "\n",
       "   History_High  History_Low  History_Medium  History_new  \n",
       "0             1            0               0            0  \n",
       "1             1            0               0            0  \n",
       "2             0            1               0            0  \n",
       "3             1            0               0            0  \n",
       "4             1            0               0            0  "
      ]
     },
     "execution_count": 181,
     "metadata": {},
     "output_type": "execute_result"
    }
   ],
   "source": [
    "data = pd.get_dummies(data)\n",
    "data.head(5)"
   ]
  },
  {
   "cell_type": "code",
   "execution_count": 182,
   "metadata": {},
   "outputs": [],
   "source": [
    "data = data.drop(['Cust_Id','Age_Old','Gender_Female','OwnHome_Rent',\n",
    "                 'Married_Single','Location_Far','History_High'],axis=1)"
   ]
  },
  {
   "cell_type": "code",
   "execution_count": 183,
   "metadata": {},
   "outputs": [
    {
     "data": {
      "text/html": [
       "<div>\n",
       "<style scoped>\n",
       "    .dataframe tbody tr th:only-of-type {\n",
       "        vertical-align: middle;\n",
       "    }\n",
       "\n",
       "    .dataframe tbody tr th {\n",
       "        vertical-align: top;\n",
       "    }\n",
       "\n",
       "    .dataframe thead th {\n",
       "        text-align: right;\n",
       "    }\n",
       "</style>\n",
       "<table border=\"1\" class=\"dataframe\">\n",
       "  <thead>\n",
       "    <tr style=\"text-align: right;\">\n",
       "      <th></th>\n",
       "      <th>Salary</th>\n",
       "      <th>Children</th>\n",
       "      <th>Catalogs</th>\n",
       "      <th>AmountSpent</th>\n",
       "      <th>Age_Middle</th>\n",
       "      <th>Age_Young</th>\n",
       "      <th>Gender_Male</th>\n",
       "      <th>OwnHome_Own</th>\n",
       "      <th>Married_Married</th>\n",
       "      <th>Location_Close</th>\n",
       "      <th>History_Low</th>\n",
       "      <th>History_Medium</th>\n",
       "      <th>History_new</th>\n",
       "    </tr>\n",
       "  </thead>\n",
       "  <tbody>\n",
       "    <tr>\n",
       "      <th>0</th>\n",
       "      <td>47500</td>\n",
       "      <td>0</td>\n",
       "      <td>6</td>\n",
       "      <td>755</td>\n",
       "      <td>0</td>\n",
       "      <td>0</td>\n",
       "      <td>0</td>\n",
       "      <td>1</td>\n",
       "      <td>0</td>\n",
       "      <td>0</td>\n",
       "      <td>0</td>\n",
       "      <td>0</td>\n",
       "      <td>0</td>\n",
       "    </tr>\n",
       "    <tr>\n",
       "      <th>1</th>\n",
       "      <td>63600</td>\n",
       "      <td>0</td>\n",
       "      <td>6</td>\n",
       "      <td>1318</td>\n",
       "      <td>1</td>\n",
       "      <td>0</td>\n",
       "      <td>1</td>\n",
       "      <td>0</td>\n",
       "      <td>0</td>\n",
       "      <td>1</td>\n",
       "      <td>0</td>\n",
       "      <td>0</td>\n",
       "      <td>0</td>\n",
       "    </tr>\n",
       "    <tr>\n",
       "      <th>2</th>\n",
       "      <td>13500</td>\n",
       "      <td>0</td>\n",
       "      <td>18</td>\n",
       "      <td>296</td>\n",
       "      <td>0</td>\n",
       "      <td>1</td>\n",
       "      <td>0</td>\n",
       "      <td>0</td>\n",
       "      <td>0</td>\n",
       "      <td>1</td>\n",
       "      <td>1</td>\n",
       "      <td>0</td>\n",
       "      <td>0</td>\n",
       "    </tr>\n",
       "    <tr>\n",
       "      <th>3</th>\n",
       "      <td>85600</td>\n",
       "      <td>1</td>\n",
       "      <td>18</td>\n",
       "      <td>2436</td>\n",
       "      <td>1</td>\n",
       "      <td>0</td>\n",
       "      <td>1</td>\n",
       "      <td>1</td>\n",
       "      <td>1</td>\n",
       "      <td>1</td>\n",
       "      <td>0</td>\n",
       "      <td>0</td>\n",
       "      <td>0</td>\n",
       "    </tr>\n",
       "    <tr>\n",
       "      <th>4</th>\n",
       "      <td>68400</td>\n",
       "      <td>0</td>\n",
       "      <td>12</td>\n",
       "      <td>1304</td>\n",
       "      <td>1</td>\n",
       "      <td>0</td>\n",
       "      <td>0</td>\n",
       "      <td>1</td>\n",
       "      <td>0</td>\n",
       "      <td>1</td>\n",
       "      <td>0</td>\n",
       "      <td>0</td>\n",
       "      <td>0</td>\n",
       "    </tr>\n",
       "  </tbody>\n",
       "</table>\n",
       "</div>"
      ],
      "text/plain": [
       "   Salary  Children  Catalogs  AmountSpent  Age_Middle  Age_Young  \\\n",
       "0   47500         0         6          755           0          0   \n",
       "1   63600         0         6         1318           1          0   \n",
       "2   13500         0        18          296           0          1   \n",
       "3   85600         1        18         2436           1          0   \n",
       "4   68400         0        12         1304           1          0   \n",
       "\n",
       "   Gender_Male  OwnHome_Own  Married_Married  Location_Close  History_Low  \\\n",
       "0            0            1                0               0            0   \n",
       "1            1            0                0               1            0   \n",
       "2            0            0                0               1            1   \n",
       "3            1            1                1               1            0   \n",
       "4            0            1                0               1            0   \n",
       "\n",
       "   History_Medium  History_new  \n",
       "0               0            0  \n",
       "1               0            0  \n",
       "2               0            0  \n",
       "3               0            0  \n",
       "4               0            0  "
      ]
     },
     "execution_count": 183,
     "metadata": {},
     "output_type": "execute_result"
    }
   ],
   "source": [
    "data.head(5)"
   ]
  },
  {
   "cell_type": "code",
   "execution_count": 184,
   "metadata": {},
   "outputs": [],
   "source": [
    "y = data['AmountSpent']\n",
    "x=data.drop('AmountSpent',axis = 1)"
   ]
  },
  {
   "cell_type": "code",
   "execution_count": 185,
   "metadata": {},
   "outputs": [],
   "source": [
    "##create train and test parts of the data\n",
    "import sklearn.model_selection as model_selection"
   ]
  },
  {
   "cell_type": "code",
   "execution_count": 186,
   "metadata": {},
   "outputs": [],
   "source": [
    "import sklearn.tree as tree"
   ]
  },
  {
   "cell_type": "code",
   "execution_count": 187,
   "metadata": {},
   "outputs": [],
   "source": [
    "x_train,x_test,y_train,y_test = model_selection.train_test_split(x,y,test_size=0.2,random_state = 200)"
   ]
  },
  {
   "cell_type": "code",
   "execution_count": 188,
   "metadata": {},
   "outputs": [
    {
     "data": {
      "text/plain": [
       "(200, 12)"
      ]
     },
     "execution_count": 188,
     "metadata": {},
     "output_type": "execute_result"
    }
   ],
   "source": [
    "x_test.shape"
   ]
  },
  {
   "cell_type": "code",
   "execution_count": 189,
   "metadata": {},
   "outputs": [
    {
     "data": {
      "text/plain": [
       "(800, 12)"
      ]
     },
     "execution_count": 189,
     "metadata": {},
     "output_type": "execute_result"
    }
   ],
   "source": [
    "x_train.shape\n"
   ]
  },
  {
   "cell_type": "code",
   "execution_count": 190,
   "metadata": {},
   "outputs": [],
   "source": [
    "clf = tree.DecisionTreeRegressor(max_depth = 3)"
   ]
  },
  {
   "cell_type": "code",
   "execution_count": 191,
   "metadata": {},
   "outputs": [],
   "source": [
    "clf = clf.fit(x_train,y_train)"
   ]
  },
  {
   "cell_type": "code",
   "execution_count": 192,
   "metadata": {},
   "outputs": [],
   "source": [
    "##create a graphical representation of the tree model\n",
    "import pydotplus\n",
    "import os\n",
    "os.environ[\"PATH\"] += os.pathsep + 'C:/Program Files (x86)/Graphviz2.38/bin'\n",
    "#os.chdir(dt_dir)"
   ]
  },
  {
   "cell_type": "code",
   "execution_count": 193,
   "metadata": {},
   "outputs": [],
   "source": [
    "graph=tree.export_graphviz(clf,feature_names=x_train.columns,out_file=None,filled=True)"
   ]
  },
  {
   "cell_type": "code",
   "execution_count": 194,
   "metadata": {},
   "outputs": [
    {
     "data": {
      "text/plain": [
       "'digraph Tree {\\nnode [shape=box, style=\"filled\", color=\"black\"] ;\\n0 [label=\"Salary <= 58650.0\\\\nmse = 895015.685\\\\nsamples = 800\\\\nvalue = 1227.126\", fillcolor=\"#e5813970\"] ;\\n1 [label=\"Salary <= 32650.0\\\\nmse = 247665.232\\\\nsamples = 443\\\\nvalue = 713.756\", fillcolor=\"#e5813932\"] ;\\n0 -> 1 [labeldistance=2.5, labelangle=45, headlabel=\"True\"] ;\\n2 [label=\"Salary <= 19350.0\\\\nmse = 47704.332\\\\nsamples = 211\\\\nvalue = 393.389\", fillcolor=\"#e581390b\"] ;\\n1 -> 2 ;\\n3 [label=\"mse = 21561.911\\\\nsamples = 114\\\\nvalue = 297.965\", fillcolor=\"#e5813900\"] ;\\n2 -> 3 ;\\n4 [label=\"mse = 55149.836\\\\nsamples = 97\\\\nvalue = 505.536\", fillcolor=\"#e5813919\"] ;\\n2 -> 4 ;\\n5 [label=\"History_Low <= 0.5\\\\nmse = 251285.334\\\\nsamples = 232\\\\nvalue = 1005.125\", fillcolor=\"#e5813955\"] ;\\n1 -> 5 ;\\n6 [label=\"mse = 212543.218\\\\nsamples = 196\\\\nvalue = 1114.918\", fillcolor=\"#e5813962\"] ;\\n5 -> 6 ;\\n7 [label=\"mse = 39262.453\\\\nsamples = 36\\\\nvalue = 407.361\", fillcolor=\"#e581390d\"] ;\\n5 -> 7 ;\\n8 [label=\"Catalogs <= 15.0\\\\nmse = 965455.051\\\\nsamples = 357\\\\nvalue = 1864.165\", fillcolor=\"#e58139bc\"] ;\\n0 -> 8 [labeldistance=2.5, labelangle=-45, headlabel=\"False\"] ;\\n9 [label=\"History_Low <= 0.5\\\\nmse = 558394.322\\\\nsamples = 160\\\\nvalue = 1339.875\", fillcolor=\"#e581397d\"] ;\\n8 -> 9 ;\\n10 [label=\"mse = 484198.497\\\\nsamples = 142\\\\nvalue = 1466.845\", fillcolor=\"#e581398c\"] ;\\n9 -> 10 ;\\n11 [label=\"mse = 13228.728\\\\nsamples = 18\\\\nvalue = 338.222\", fillcolor=\"#e5813905\"] ;\\n9 -> 11 ;\\n12 [label=\"History_Medium <= 0.5\\\\nmse = 891487.477\\\\nsamples = 197\\\\nvalue = 2289.985\", fillcolor=\"#e58139ef\"] ;\\n8 -> 12 ;\\n13 [label=\"mse = 832673.455\\\\nsamples = 175\\\\nvalue = 2420.417\", fillcolor=\"#e58139ff\"] ;\\n12 -> 13 ;\\n14 [label=\"mse = 147529.793\\\\nsamples = 22\\\\nvalue = 1252.455\", fillcolor=\"#e5813973\"] ;\\n12 -> 14 ;\\n}'"
      ]
     },
     "execution_count": 194,
     "metadata": {},
     "output_type": "execute_result"
    }
   ],
   "source": [
    "graph"
   ]
  },
  {
   "cell_type": "code",
   "execution_count": 195,
   "metadata": {},
   "outputs": [],
   "source": [
    "graph=pydotplus.graph_from_dot_data(graph)"
   ]
  },
  {
   "cell_type": "code",
   "execution_count": 196,
   "metadata": {},
   "outputs": [],
   "source": [
    "from IPython.display import Image"
   ]
  },
  {
   "cell_type": "code",
   "execution_count": 197,
   "metadata": {},
   "outputs": [
    {
     "data": {
      "image/jpeg": "[encoded data removed]",
      "text/plain": [
       "<IPython.core.display.Image object>"
      ]
     },
     "execution_count": 197,
     "metadata": {},
     "output_type": "execute_result"
    }
   ],
   "source": [
    "Image(graph.create_jpeg())"
   ]
  },
  {
   "cell_type": "code",
   "execution_count": 198,
   "metadata": {},
   "outputs": [
    {
     "data": {
      "text/plain": [
       "array([1252.45454545, 2420.41714286, 1114.91836735, 1466.84507042,\n",
       "       2420.41714286,  505.53608247,  407.36111111,  338.22222222,\n",
       "       1114.91836735, 1114.91836735, 2420.41714286,  505.53608247,\n",
       "        505.53608247, 1466.84507042,  297.96491228, 1466.84507042,\n",
       "        505.53608247, 1114.91836735,  297.96491228,  505.53608247,\n",
       "        505.53608247, 1252.45454545, 2420.41714286, 2420.41714286,\n",
       "        505.53608247, 1466.84507042, 1114.91836735, 1466.84507042,\n",
       "        297.96491228, 1114.91836735,  338.22222222,  338.22222222,\n",
       "       2420.41714286, 1466.84507042,  297.96491228, 2420.41714286,\n",
       "       1466.84507042, 1466.84507042, 2420.41714286, 1114.91836735,\n",
       "       1114.91836735,  505.53608247, 1466.84507042, 1466.84507042,\n",
       "       1114.91836735,  505.53608247,  338.22222222,  407.36111111,\n",
       "       1114.91836735, 2420.41714286,  505.53608247,  505.53608247,\n",
       "        505.53608247, 2420.41714286,  505.53608247, 2420.41714286,\n",
       "       1114.91836735, 1114.91836735, 2420.41714286, 2420.41714286,\n",
       "        297.96491228, 1466.84507042, 1466.84507042, 1114.91836735,\n",
       "        407.36111111, 1114.91836735, 1252.45454545, 1466.84507042,\n",
       "        505.53608247, 1114.91836735, 1114.91836735, 1114.91836735,\n",
       "       1466.84507042, 1466.84507042,  297.96491228, 2420.41714286,\n",
       "        505.53608247, 2420.41714286,  505.53608247,  407.36111111,\n",
       "       1466.84507042,  505.53608247,  297.96491228, 1466.84507042,\n",
       "       2420.41714286,  297.96491228,  505.53608247, 1466.84507042,\n",
       "        505.53608247, 1114.91836735, 2420.41714286, 1466.84507042,\n",
       "        505.53608247,  338.22222222, 1114.91836735, 1466.84507042,\n",
       "       1114.91836735, 1466.84507042, 2420.41714286, 1114.91836735,\n",
       "       2420.41714286,  297.96491228, 1466.84507042, 1466.84507042,\n",
       "       1466.84507042, 1114.91836735, 1466.84507042,  505.53608247,\n",
       "        297.96491228, 1114.91836735, 1114.91836735, 1114.91836735,\n",
       "       1466.84507042,  505.53608247, 2420.41714286, 1252.45454545,\n",
       "        297.96491228,  297.96491228,  505.53608247, 1114.91836735,\n",
       "        297.96491228, 2420.41714286, 2420.41714286,  297.96491228,\n",
       "       2420.41714286, 2420.41714286, 1252.45454545, 2420.41714286,\n",
       "       1252.45454545, 2420.41714286, 1114.91836735,  407.36111111,\n",
       "        297.96491228, 1114.91836735, 2420.41714286, 1114.91836735,\n",
       "       2420.41714286, 1114.91836735,  297.96491228, 1114.91836735,\n",
       "       1114.91836735, 1466.84507042, 1466.84507042, 1114.91836735,\n",
       "       2420.41714286,  505.53608247, 2420.41714286,  297.96491228,\n",
       "       1466.84507042, 2420.41714286,  297.96491228, 2420.41714286,\n",
       "       2420.41714286, 1252.45454545, 1466.84507042,  338.22222222,\n",
       "       1466.84507042, 1114.91836735, 2420.41714286, 1114.91836735,\n",
       "       1114.91836735,  407.36111111, 2420.41714286, 1114.91836735,\n",
       "        505.53608247, 1114.91836735,  505.53608247, 1466.84507042,\n",
       "       1114.91836735, 2420.41714286,  297.96491228, 2420.41714286,\n",
       "       2420.41714286, 1466.84507042, 2420.41714286, 1114.91836735,\n",
       "       2420.41714286,  505.53608247, 1466.84507042, 2420.41714286,\n",
       "       1114.91836735, 1114.91836735,  297.96491228, 1466.84507042,\n",
       "        338.22222222,  505.53608247,  297.96491228,  407.36111111,\n",
       "        505.53608247, 1466.84507042, 1114.91836735, 1114.91836735,\n",
       "        297.96491228,  297.96491228,  297.96491228, 1252.45454545,\n",
       "       1114.91836735,  505.53608247,  407.36111111,  297.96491228])"
      ]
     },
     "execution_count": 198,
     "metadata": {},
     "output_type": "execute_result"
    }
   ],
   "source": [
    "clf.predict(x_test)"
   ]
  },
  {
   "cell_type": "code",
   "execution_count": 199,
   "metadata": {},
   "outputs": [
    {
     "data": {
      "text/plain": [
       "Salary             74400\n",
       "Children               0\n",
       "Catalogs              18\n",
       "Age_Middle             0\n",
       "Age_Young              0\n",
       "Gender_Male            0\n",
       "OwnHome_Own            1\n",
       "Married_Married        1\n",
       "Location_Close         1\n",
       "History_Low            0\n",
       "History_Medium         0\n",
       "History_new            0\n",
       "Name: 233, dtype: int64"
      ]
     },
     "execution_count": 199,
     "metadata": {},
     "output_type": "execute_result"
    }
   ],
   "source": [
    "x_test.iloc[1]"
   ]
  },
  {
   "cell_type": "code",
   "execution_count": 200,
   "metadata": {},
   "outputs": [],
   "source": [
    "y_test_predicted=clf.predict(x_test)"
   ]
  },
  {
   "cell_type": "code",
   "execution_count": 210,
   "metadata": {},
   "outputs": [
    {
     "data": {
      "text/plain": [
       "0.5910837204427057"
      ]
     },
     "execution_count": 210,
     "metadata": {},
     "output_type": "execute_result"
    }
   ],
   "source": [
    "clf.score(x_test,y_test)"
   ]
  },
  {
   "cell_type": "code",
   "execution_count": 201,
   "metadata": {},
   "outputs": [],
   "source": [
    "results=pd.DataFrame({'actual':y_test,'predicted':y_test_predicted})"
   ]
  },
  {
   "cell_type": "code",
   "execution_count": 202,
   "metadata": {},
   "outputs": [
    {
     "data": {
      "text/html": [
       "<div>\n",
       "<style scoped>\n",
       "    .dataframe tbody tr th:only-of-type {\n",
       "        vertical-align: middle;\n",
       "    }\n",
       "\n",
       "    .dataframe tbody tr th {\n",
       "        vertical-align: top;\n",
       "    }\n",
       "\n",
       "    .dataframe thead th {\n",
       "        text-align: right;\n",
       "    }\n",
       "</style>\n",
       "<table border=\"1\" class=\"dataframe\">\n",
       "  <thead>\n",
       "    <tr style=\"text-align: right;\">\n",
       "      <th></th>\n",
       "      <th>actual</th>\n",
       "      <th>predicted</th>\n",
       "    </tr>\n",
       "  </thead>\n",
       "  <tbody>\n",
       "    <tr>\n",
       "      <th>674</th>\n",
       "      <td>895</td>\n",
       "      <td>1252.454545</td>\n",
       "    </tr>\n",
       "    <tr>\n",
       "      <th>233</th>\n",
       "      <td>2479</td>\n",
       "      <td>2420.417143</td>\n",
       "    </tr>\n",
       "    <tr>\n",
       "      <th>739</th>\n",
       "      <td>716</td>\n",
       "      <td>1114.918367</td>\n",
       "    </tr>\n",
       "    <tr>\n",
       "      <th>865</th>\n",
       "      <td>1588</td>\n",
       "      <td>1466.845070</td>\n",
       "    </tr>\n",
       "    <tr>\n",
       "      <th>523</th>\n",
       "      <td>3069</td>\n",
       "      <td>2420.417143</td>\n",
       "    </tr>\n",
       "  </tbody>\n",
       "</table>\n",
       "</div>"
      ],
      "text/plain": [
       "     actual    predicted\n",
       "674     895  1252.454545\n",
       "233    2479  2420.417143\n",
       "739     716  1114.918367\n",
       "865    1588  1466.845070\n",
       "523    3069  2420.417143"
      ]
     },
     "execution_count": 202,
     "metadata": {},
     "output_type": "execute_result"
    }
   ],
   "source": [
    "results.head()"
   ]
  },
  {
   "cell_type": "code",
   "execution_count": 203,
   "metadata": {},
   "outputs": [
    {
     "data": {
      "text/plain": [
       "Salary             0.682594\n",
       "Catalogs           0.178233\n",
       "History_Low        0.079555\n",
       "History_Medium     0.059618\n",
       "History_new        0.000000\n",
       "Location_Close     0.000000\n",
       "Married_Married    0.000000\n",
       "OwnHome_Own        0.000000\n",
       "Gender_Male        0.000000\n",
       "Age_Young          0.000000\n",
       "Age_Middle         0.000000\n",
       "Children           0.000000\n",
       "dtype: float64"
      ]
     },
     "execution_count": 203,
     "metadata": {},
     "output_type": "execute_result"
    }
   ],
   "source": [
    "#variable importance\n",
    "pd.Series(clf.feature_importances_,index=x_train.columns).sort_values(ascending=False)"
   ]
  },
  {
   "cell_type": "code",
   "execution_count": 204,
   "metadata": {},
   "outputs": [],
   "source": [
    "# comparing 2 models \n",
    "import sklearn.metrics as metrics\n",
    "%matplotlib inline"
   ]
  },
  {
   "cell_type": "code",
   "execution_count": 205,
   "metadata": {},
   "outputs": [
    {
     "data": {
      "text/plain": [
       "0.5910837204427057"
      ]
     },
     "execution_count": 205,
     "metadata": {},
     "output_type": "execute_result"
    }
   ],
   "source": [
    "metrics.r2_score(y_test,y_test_predicted)"
   ]
  },
  {
   "cell_type": "code",
   "execution_count": 206,
   "metadata": {},
   "outputs": [
    {
     "name": "stdout",
     "output_type": "stream",
     "text": [
      "Mean Absolute Error: 413.53466720353447\n",
      "Mean Squared Error: 421771.9310288262\n",
      "Root Mean Squared Error: 649.439705460658\n"
     ]
    }
   ],
   "source": [
    "from sklearn import metrics  \n",
    "print('Mean Absolute Error:', metrics.mean_absolute_error(y_test, y_test_predicted))  \n",
    "print('Mean Squared Error:', metrics.mean_squared_error(y_test, y_test_predicted))  \n",
    "print('Root Mean Squared Error:', np.sqrt(metrics.mean_squared_error(y_test, y_test_predicted)))  "
   ]
  },
  {
   "cell_type": "code",
   "execution_count": null,
   "metadata": {},
   "outputs": [],
   "source": []
  }
 ],
 "metadata": {
  "kernelspec": {
   "display_name": "Python 3",
   "language": "python",
   "name": "python3"
  },
  "language_info": {
   "codemirror_mode": {
    "name": "ipython",
    "version": 3
   },
   "file_extension": ".py",
   "mimetype": "text/x-python",
   "name": "python",
   "nbconvert_exporter": "python",
   "pygments_lexer": "ipython3",
   "version": "3.7.0"
  }
 },
 "nbformat": 4,
 "nbformat_minor": 2
}
